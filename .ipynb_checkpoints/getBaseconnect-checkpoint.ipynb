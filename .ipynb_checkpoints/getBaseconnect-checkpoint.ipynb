{
 "cells": [
  {
   "cell_type": "code",
   "execution_count": 159,
   "metadata": {
    "collapsed": true
   },
   "outputs": [],
   "source": [
    "import requests\n",
    "import time\n",
    "import re \n",
    "import pandas as pd\n",
    "from bs4 import BeautifulSoup\n",
    "from tqdm import tqdm\n",
    "\n",
    "pd.set_option(\"display.max_colwidth\", 80)"
   ]
  },
  {
   "cell_type": "code",
   "execution_count": 5,
   "metadata": {
    "collapsed": false
   },
   "outputs": [],
   "source": [
    "baseurl = \"https://baseconnect.in\"\n",
    "category_url = \"/companies/category/63b80d21-f5eb-43d1-8c1c-ed1bf3a15cb5\"\n",
    "testurl = baseurl + category_url\n",
    "\n",
    "# user agent\n",
    "headers = {\n",
    "    \"User-Agent\": \"Mozilla/5.0 (X11; Ubuntu; Linux x86_64; rv:47.0) Gecko/20100101 Firefox/47.0\",\n",
    "}"
   ]
  },
  {
   "cell_type": "code",
   "execution_count": 13,
   "metadata": {
    "collapsed": false
   },
   "outputs": [],
   "source": [
    "res = requests.get(testurl, headers=headers)\n",
    "soup = BeautifulSoup(res.text, \"html.parser\")\n",
    "tests = soup.find_all(\"div\", \"searches__result__list\")"
   ]
  },
  {
   "cell_type": "code",
   "execution_count": 14,
   "metadata": {
    "collapsed": false
   },
   "outputs": [],
   "source": [
    "address= [test.find(\"a\").get(\"href\") for test in tests]"
   ]
  },
  {
   "cell_type": "code",
   "execution_count": 19,
   "metadata": {
    "collapsed": false
   },
   "outputs": [
    {
     "name": "stdout",
     "output_type": "stream",
     "text": [
      "/companies/c1c16608-d72b-49e6-b825-7ce1ca242b1c\n"
     ]
    }
   ],
   "source": [
    "# 詳細ページ\n",
    "print(address[0])\n",
    "res = requests.get(baseurl+address[0], headers=headers)\n",
    "soup = BeautifulSoup(res.content, \"html.parser\")\n"
   ]
  },
  {
   "cell_type": "code",
   "execution_count": 43,
   "metadata": {
    "collapsed": false
   },
   "outputs": [
    {
     "name": "stdout",
     "output_type": "stream",
     "text": [
      "富士通株式会社\n",
      "\n",
      "\n",
      "ふじつう\n"
     ]
    }
   ],
   "source": [
    "# 会社名の抽出\n",
    "company_name = soup.find(\"h1\", \"node__header__text__title\").get_text().strip()\n",
    "company_kana = soup.find(\"div\", \"node__header__title__reading\").get_text().strip()\n",
    "print(company_name)\n",
    "print(\"\\n\")\n",
    "print(company_kana)"
   ]
  },
  {
   "cell_type": "code",
   "execution_count": 38,
   "metadata": {
    "collapsed": false
   },
   "outputs": [
    {
     "name": "stdout",
     "output_type": "stream",
     "text": [
      "ICTサービスの規模は国内最大で新しい事業分野への展開や事業構造転換も行う会社\n",
      "\n",
      "\n",
      "事業分野は主にICT(情報通信技術)サービス及びサーバーであり、その規模は世界で4位、国内においては最大規模を誇る。また、「aroows」に代表されるスマートフォンや、「LIFE BOOK」に代表されるパソコンなど電子機器の開発・製造にも取り組んでいる。他にも、IC(集積回路)の一種であるLSI、コンピュータ、インターネットに関わる分野で手広い展開が見られる。また、インターネットを介し、ヒトや機械のみならず、それ以外の「モノ」と繋がる「IoT(Internet of Things)」という比較的新しい事業分野への関心が高い。2012年から2013年にかけて発生した大幅な赤字を受け、分社化などの事業構造転換が図られている。また、ソフトウェア開発などを海外へと委託するオフショア開発体制に関し、インドや東欧での人員を強化するなどして、コストダウンを目指す。\n"
     ]
    }
   ],
   "source": [
    "# 説明の抽出\n",
    "company_title = soup.find(\"div\", \"node__header__cont__text--thumb\").find(\"h2\").get_text().strip()\n",
    "company_abst = soup.find(\"div\", \"node__header__cont__text--thumb\").find(\"p\").get_text().strip()\n",
    "print(company_title)\n",
    "print(\"\\n\")\n",
    "print(company_abst)"
   ]
  },
  {
   "cell_type": "code",
   "execution_count": 83,
   "metadata": {
    "collapsed": false
   },
   "outputs": [
    {
     "name": "stdout",
     "output_type": "stream",
     "text": [
      "電子部品業界の会社 ソフトウェア開発業界の会社 携帯電話端末・タブレット業界の会社 パソコン製造業界の会社 ITコンサルティング業界の会社\n"
     ]
    }
   ],
   "source": [
    "# タグの抽出\n",
    "company_tag = soup.find(\"ul\", \"node__header__text__title__tag\").get_text().strip().replace(\"\\n\", \" \")\n",
    "print(company_tag)"
   ]
  },
  {
   "cell_type": "code",
   "execution_count": 56,
   "metadata": {
    "collapsed": false
   },
   "outputs": [
    {
     "name": "stdout",
     "output_type": "stream",
     "text": [
      "スキャナー製造 パソコン製造 カーナビ製造 コネクタ製造 スマートフォン製造 ドライブレコーダー製造 エアコン製造\n"
     ]
    }
   ],
   "source": [
    "# 事業内容キーワード\n",
    "company_keyword = soup.find(\"ul\", \"node__header__tag__list\").get_text().strip().replace(\"\\n\", \" \")\n",
    "print(company_keyword)"
   ]
  },
  {
   "cell_type": "code",
   "execution_count": 85,
   "metadata": {
    "collapsed": false,
    "scrolled": true
   },
   "outputs": [
    {
     "name": "stdout",
     "output_type": "stream",
     "text": [
      "スキャナー製造 パソコン製造 カーナビ製造 コネクタ製造 スマートフォン製造 ドライブレコーダー製造 エアコン製造\n",
      "BtoB\n"
     ]
    }
   ],
   "source": [
    "# 特徴と事業内容キーワード\n",
    "company_keyword_character = soup.find(\"div\", \"node__header__tag__wrapper\")\n",
    "for content in company_keyword_character.find_all(class_=\"node__header__tag\"):\n",
    "    if \"事業内容\" in content.find(\"h3\").get_text():\n",
    "        company_key = content.find(\"ul\").get_text().strip().replace(\"\\n\", \" \")\n",
    "        print(company_key)\n",
    "    if \"特徴\" in content.find(\"h3\").get_text():\n",
    "        company_char = content.find(\"ul\").get_text().strip().replace(\"\\n\", \" \")\n",
    "        print(company_char)"
   ]
  },
  {
   "cell_type": "code",
   "execution_count": 230,
   "metadata": {
    "collapsed": false,
    "scrolled": true
   },
   "outputs": [
    {
     "data": {
      "text/plain": [
       "{'上場市場': '東証１部',\n",
       " '上場日': '1949年5月',\n",
       " '事業所数': '11箇所以上',\n",
       " '代表者_出身大学': '東京理科大学',\n",
       " '代表者_名前': '田中達也',\n",
       " '代表者_生年月日': '1956年09月11日',\n",
       " '代表者電話番号': '情報あり',\n",
       " '住所': '〒105-0021神奈川県川崎市中原区上小田中４丁目１番１号',\n",
       " '売上高': '4兆7392億9400万(2016年度)',\n",
       " '売上高増加率': '-0.29%(2016年度)',\n",
       " '工場数': '6~20箇所',\n",
       " '店舗数': '4~10箇所',\n",
       " '従業員増加率': '-0.92%(2017年度)',\n",
       " '従業員数': '155069人(2017年度)',\n",
       " '新卒採用人数': '101~500人',\n",
       " '設立年月': '1935年6月',\n",
       " '資本金': '3246億円'}"
      ]
     },
     "execution_count": 230,
     "metadata": {},
     "output_type": "execute_result"
    }
   ],
   "source": [
    "basic_info2 = {}\n",
    "rows = soup.find_all(\"dl\")\n",
    "for row in rows:\n",
    "    basic_info2[re.sub(r\"\\s+\", \"\", row.dt.get_text())] = re.sub(r\"\\s+\", \"\", row.dd.get_text())\n",
    "    \n",
    "if basic_info2[\"名前\"]:\n",
    "    basic_info2[\"代表者_名前\"] = basic_info2.pop(\"名前\")\n",
    "    basic_info2[\"代表者_出身大学\"] = basic_info2.pop(\"出身大学\")\n",
    "    basic_info2[\"代表者_生年月日\"] = basic_info2.pop(\"生年月日\")\n",
    "\n",
    "basic_info2"
   ]
  },
  {
   "cell_type": "code",
   "execution_count": 186,
   "metadata": {
    "collapsed": false
   },
   "outputs": [
    {
     "data": {
      "text/plain": [
       "{'役員_00': {'プロフィール': '山本正已（1954年1月11日-）。1976年4月富士通入社。2004年6月パーソナルビジネス本部副本部長。',\n",
       "  '役職': '代表取締役/会長',\n",
       "  '氏名': '山本正已'},\n",
       " '役員_01': {'プロフィール': '田中達也（1956年9月11日-）。1980年4月富士通入社。2005年4月富士通(中国)信息系統有限公司。',\n",
       "  '役職': '代表取締役/社長',\n",
       "  '氏名': '田中達也'},\n",
       " '役員_02': {'プロフィール': '谷口典彦（1954年9月7日-）。1977年4月富士通入社。2005年5月㈱富士通アドバンストソリューションズ。',\n",
       "  '役職': '取締役/執行役員専務',\n",
       "  '氏名': '谷口典彦'},\n",
       " '役員_03': {'プロフィール': '塚野英博（1958年3月21日-）。1981年4月富士通入社。2009年6月経営戦略室長(2014年3月まで)。',\n",
       "  '役職': '取締役/執行役員専務CFO',\n",
       "  '氏名': '塚野英博'},\n",
       " '役員_04': {'プロフィール': 'ダンカンテイト（1966年3月24日-）。1996年3月英国DEC(現ヒューレット・パッカード)マネージドサービス部門。ビジネス開発ヘッド。',\n",
       "  '役職': '取締役/執行役員常務',\n",
       "  '氏名': 'ダンカンテイト'},\n",
       " '役員_05': {'プロフィール': '古河建純（1942年11月17日-）。1965年4月富士通入社。1994年6月取締役。',\n",
       "  '役職': '取締役',\n",
       "  '氏名': '古河建純'},\n",
       " '役員_06': {'プロフィール': '須田美矢子（1948年5月15日-）。1982年4月専修大学経済学部助教授。1988年4月同大学経済学部教授。',\n",
       "  '役職': '取締役',\n",
       "  '氏名': '須田美矢子'},\n",
       " '役員_07': {'プロフィール': '横田淳（1947年6月26日-）。1971年4月外務省入省。1998年1月大臣官房審議官兼経済局。',\n",
       "  '役職': '取締役',\n",
       "  '氏名': '横田淳'},\n",
       " '役員_08': {'プロフィール': '向井千秋（1952年5月6日-）。1977年11月慶應義塾大学医学部外科学教室医局員。(1985年11月まで)。',\n",
       "  '役職': '取締役',\n",
       "  '氏名': '向井千秋'},\n",
       " '役員_09': {'プロフィール': '阿部敦（1953年10月19日-）。1977年4月三井物産㈱入社。1990年6月同社電子工業室課長。',\n",
       "  '役職': '取締役',\n",
       "  '氏名': '阿部敦'},\n",
       " '役員_10': {'プロフィール': '加藤和彦（1951年11月13日-）。1976年4月富士通入社。1996年6月経理部長。',\n",
       "  '役職': '常勤監査役',\n",
       "  '氏名': '加藤和彦'},\n",
       " '役員_11': {'プロフィール': '近藤芳樹（1957年6月30日-）。1980年4月富士通入社。2008年6月ソリューション事業推進本部長。',\n",
       "  '役職': '常勤監査役',\n",
       "  '氏名': '近藤芳樹'},\n",
       " '役員_12': {'プロフィール': '山室惠（1948年3月8日-）。1974年4月東京地方裁判所判事補。1984年4月東京地方裁判所判事。',\n",
       "  '役職': '監査役',\n",
       "  '氏名': '山室惠'},\n",
       " '役員_13': {'プロフィール': '三谷紘（1945年2月7日-）。1969年4月東京地方検察庁検事。1997年6月東京法務局長。',\n",
       "  '役職': '監査役',\n",
       "  '氏名': '三谷紘'},\n",
       " '役員_14': {'プロフィール': '初川浩司（1951年9月25日-）。1974年3月プライスウオーターハウス会計事務所。入所。',\n",
       "  '役職': '監査役',\n",
       "  '氏名': '初川浩司'}}"
      ]
     },
     "execution_count": 186,
     "metadata": {},
     "output_type": "execute_result"
    }
   ],
   "source": [
    "# 代表者\n",
    "basic_officer_all = {}\n",
    "rows = soup.find(\"div\", \"node__officer\").find_all(class_=\"nodeTable--desc\")\n",
    "for index, row in enumerate(rows):\n",
    "    basic_officer = {}\n",
    "    basic_officer[\"氏名\"], basic_officer[\"役職\"] = re.sub(r\"\\s+\", \" \", row.find(\"h3\").get_text().strip().replace(\"\\n\", \"\")).split(\" \")\n",
    "    basic_officer[\"プロフィール\"] = re.sub(r\"\\s+\", \"\", row.find(class_=\"nodeTable--desc__desc\").get_text().strip())    \n",
    "    basic_officer_all[\"役員_\"+str(index).zfill(2)] = basic_officer\n",
    "basic_officer_all"
   ]
  },
  {
   "cell_type": "code",
   "execution_count": 211,
   "metadata": {
    "collapsed": false
   },
   "outputs": [
    {
     "data": {
      "text/plain": [
       "{'お問い合わせページ': 'http://www.fujitsu.com/jp/about/resources/contact/index.html',\n",
       " '会社サイト': 'http://jp.fujitsu.com/'}"
      ]
     },
     "execution_count": 211,
     "metadata": {},
     "output_type": "execute_result"
    }
   ],
   "source": [
    "# 連絡先\n",
    "basic_contact = {}\n",
    "for item in soup.find(\"div\", \"node__contact\").find_all(\"a\"):\n",
    "    tmp = re.sub(r\"\\s+\", \"\", item.get_text())\n",
    "    if \"会社\" in tmp:\n",
    "        basic_contact[tmp] = item.get(\"href\")\n",
    "    elif \"お問い合わせ\" in tmp:\n",
    "        basic_contact[tmp] = item.get(\"href\")\n",
    "\n",
    "    \n",
    "basic_contact"
   ]
  },
  {
   "cell_type": "code",
   "execution_count": 294,
   "metadata": {
    "collapsed": false
   },
   "outputs": [
    {
     "data": {
      "text/plain": [
       "<li>\n",
       "<span class=\"nodeRank__list__number mincho\">\n",
       "                      2\n",
       "                      <span class=\"nodeRank__list__number__bold\">位</span>\n",
       "</span>\n",
       "<span class=\"nodeRank__list__text mincho\">/ 2106\n",
       "                          社中</span>\n",
       "<p class=\"nodeRank__list__genre\">(大業界:機械業界の会社)</p>\n",
       "</li>"
      ]
     },
     "execution_count": 294,
     "metadata": {},
     "output_type": "execute_result"
    }
   ],
   "source": [
    "soup.find(\"div\", \"nodeRank\").find_all(\"li\")[0]"
   ]
  },
  {
   "cell_type": "code",
   "execution_count": 292,
   "metadata": {
    "collapsed": false
   },
   "outputs": [
    {
     "data": {
      "text/plain": [
       "<li>\n",
       "<span class=\"nodeRank__list__number mincho\">\n",
       "                        1\n",
       "                        <span class=\"nodeRank__list__number__bold\">位</span>\n",
       "</span>\n",
       "<span class=\"nodeRank__list__text mincho\">/ 7059\n",
       "                        社中</span>\n",
       "<p class=\"nodeRank__list__genre\">(大業界:機械業界の会社)</p>\n",
       "</li>"
      ]
     },
     "execution_count": 292,
     "metadata": {},
     "output_type": "execute_result"
    }
   ],
   "source": [
    "soup.find(\"div\", \"nodeRank--other\").find_all(\"li\")[0]"
   ]
  },
  {
   "cell_type": "code",
   "execution_count": 233,
   "metadata": {
    "collapsed": false
   },
   "outputs": [],
   "source": [
    "# ランキング\n",
    "basic_rank = {}\n",
    "rows = soup.find(\"div\", \"node__ranking\").find_all(\"li\")"
   ]
  },
  {
   "cell_type": "code",
   "execution_count": 237,
   "metadata": {
    "collapsed": false
   },
   "outputs": [
    {
     "data": {
      "text/plain": [
       "'\\n\\n                      2\\n                      位\\n\\n/ 2106\\n                          社中\\n(大業界:機械業界の会社)\\n'"
      ]
     },
     "execution_count": 237,
     "metadata": {},
     "output_type": "execute_result"
    }
   ],
   "source": [
    "rows[0].get_text()"
   ]
  }
 ],
 "metadata": {
  "kernelspec": {
   "display_name": "Python [conda env:anaconda3-4.2.0]",
   "language": "python",
   "name": "conda-env-anaconda3-4.2.0-py"
  },
  "language_info": {
   "codemirror_mode": {
    "name": "ipython",
    "version": 3
   },
   "file_extension": ".py",
   "mimetype": "text/x-python",
   "name": "python",
   "nbconvert_exporter": "python",
   "pygments_lexer": "ipython3",
   "version": "3.5.2"
  }
 },
 "nbformat": 4,
 "nbformat_minor": 1
}
