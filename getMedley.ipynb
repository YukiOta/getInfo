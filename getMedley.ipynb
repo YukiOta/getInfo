{
 "cells": [
  {
   "cell_type": "code",
   "execution_count": 1,
   "metadata": {
    "collapsed": true
   },
   "outputs": [],
   "source": [
    "import requests\n",
    "import time\n",
    "import pandas as pd\n",
    "from bs4 import BeautifulSoup\n",
    "from tqdm import tqdm\n",
    "\n",
    "pd.set_option(\"display.max_colwidth\", 80)"
   ]
  },
  {
   "cell_type": "code",
   "execution_count": 2,
   "metadata": {
    "collapsed": true
   },
   "outputs": [],
   "source": [
    "baseurl = \"https://medley.life\"\n",
    "testurl = \"https://medley.life/institutions/pref_%E5%8C%97%E6%B5%B7%E9%81%93\"\n",
    "testurl = \"https://medley.life/institutions/5a1713039aefea1ca06cd56c/\"\n",
    "\n",
    "# user agent\n",
    "headers = {\n",
    "    \"User-Agent\": \"Mozilla/5.0 (X11; Ubuntu; Linux x86_64; rv:47.0) Gecko/20100101 Firefox/47.0\",\n",
    "}"
   ]
  },
  {
   "cell_type": "code",
   "execution_count": 3,
   "metadata": {
    "collapsed": true
   },
   "outputs": [],
   "source": [
    "res = requests.get(testurl, headers=headers)\n",
    "soup = BeautifulSoup(res.text, \"html.parser\")\n",
    "tests = soup.find_all(\"li\", \"c-search-item\")"
   ]
  },
  {
   "cell_type": "code",
   "execution_count": 4,
   "metadata": {
    "collapsed": false
   },
   "outputs": [],
   "source": [
    "address= [test.find(\"a\").get(\"href\") for test in tests]"
   ]
  },
  {
   "cell_type": "code",
   "execution_count": 5,
   "metadata": {
    "collapsed": false
   },
   "outputs": [
    {
     "name": "stdout",
     "output_type": "stream",
     "text": [
      "/institutions/564ab1321c1b604d59c177da/\n"
     ]
    }
   ],
   "source": [
    "# 詳細ページ\n",
    "print(address[0])\n",
    "# res = requests.get(baseurl+address[0], headers=headers)\n",
    "res = requests.get(testurl, headers=headers)\n",
    "soup = BeautifulSoup(res.text, \"html.parser\")\n"
   ]
  },
  {
   "cell_type": "markdown",
   "metadata": {},
   "source": [
    "# 探索ループ"
   ]
  },
  {
   "cell_type": "code",
   "execution_count": 6,
   "metadata": {
    "collapsed": false
   },
   "outputs": [],
   "source": [
    "# ドメイン\n",
    "base_url = \"https://medley.life\"\n",
    "# target_url = \"/institutions/pref_北海道/?page=\"\n",
    "\n",
    "# user agent\n",
    "headers = {\n",
    "    \"User-Agent\": \"Mozilla/5.0 (X11; Ubuntu; Linux x86_64; rv:47.0) Gecko/20100101 Firefox/47.0\",\n",
    "}\n",
    "\n",
    "prefs = ['北海道', '青森県', '岩手県', '宮城県', '秋田県', \n",
    "             '山形県', '福島県', '茨城県', '栃木県', '群馬県', \n",
    "             '埼玉県', '千葉県', '東京都', '神奈川県', '新潟県', \n",
    "             '富山県', '石川県', '福井県', '山梨県', '長野県', \n",
    "             '岐阜県', '静岡県', '愛知県', '三重県', '滋賀県', \n",
    "             '京都府', '大阪府', '兵庫県', '奈良県', '和歌山県', \n",
    "             '鳥取県', '島根県', '岡山県', '広島県', '山口県', \n",
    "             '徳島県', '香川県', '愛媛県', '高知県', '福岡県', \n",
    "             '佐賀県', '長崎県', '熊本県', '大分県', '宮崎県', \n",
    "             '鹿児島県', '沖縄県']"
   ]
  },
  {
   "cell_type": "code",
   "execution_count": 7,
   "metadata": {
    "collapsed": false
   },
   "outputs": [
    {
     "name": "stdout",
     "output_type": "stream",
     "text": [
      "--- Getting data at page = 281 ---\n"
     ]
    },
    {
     "name": "stderr",
     "output_type": "stream",
     "text": [
      "100%|██████████| 25/25 [00:05<00:00,  4.44it/s]\n"
     ]
    },
    {
     "name": "stdout",
     "output_type": "stream",
     "text": [
      "--- Getting data at page = 282 ---\n"
     ]
    },
    {
     "name": "stderr",
     "output_type": "stream",
     "text": [
      "100%|██████████| 15/15 [00:03<00:00,  4.05it/s]"
     ]
    },
    {
     "name": "stdout",
     "output_type": "stream",
     "text": [
      "--- DONE. ---\n"
     ]
    },
    {
     "name": "stderr",
     "output_type": "stream",
     "text": [
      "\n"
     ]
    }
   ],
   "source": [
    "for pref in prefs:\n",
    "    target_url = \"/institutions/pref_\"+pref+\"/?page=\"\n",
    "    # 初期化\n",
    "    df_all = pd.DataFrame()\n",
    "    page = 1\n",
    "    last_flag = False\n",
    "\n",
    "    while True:\n",
    "        url = base_url + target_url + str(page)\n",
    "        res = requests.get(url, headers=headers)\n",
    "        soup = BeautifulSoup(res.text, \"html.parser\")\n",
    "\n",
    "        if soup.find(class_=\"o-pagination__next\") is not None or last_flag is True:\n",
    "            # ページ表示\n",
    "            print(\"--- Getting data at page = {} ---\".format(page))\n",
    "            time.sleep(3) # 遅延させる\n",
    "\n",
    "            hospitals = soup.find_all(\"li\", \"c-search-item\")\n",
    "\n",
    "            # hospital内探索\n",
    "            for hospital in tqdm(hospitals):\n",
    "                toadd = {}\n",
    "\n",
    "                hospital_url = hospital.find(\"a\").get(\"href\")\n",
    "                hospital_type = hospital.find(\"label\").get_text().strip()\n",
    "                toadd[\"タイプ\"] = hospital_type\n",
    "                # time.sleep(1)\n",
    "                # 病院ページにアクセス\n",
    "                res = requests.get(base_url+hospital_url, headers=headers)\n",
    "                soup = BeautifulSoup(res.text, \"html.parser\")\n",
    "\n",
    "                rows = soup.find_all(\"table\")[0].find_all(\"tr\")\n",
    "\n",
    "                for row in rows:\n",
    "                    toadd[row.th.get_text()] = row.td.get_text()\n",
    "\n",
    "                # 診療科と専門外来を追加\n",
    "                for section in soup.find_all(\"section\"):\n",
    "                    if \"診療科\" in section.find(\"header\").get_text().strip():\n",
    "                        departments = section.find_all(\"a\")\n",
    "                        tmp = [department.get_text().strip() for department in departments]\n",
    "                        toadd[\"診療科\"] = \" \".join(tmp)\n",
    "\n",
    "                    if \"専門外来\" in section.find(\"header\").get_text().strip():\n",
    "                        outpatients = section.find_all(\"label\")\n",
    "                        tmp = [outpatient.get_text().strip() for outpatient in outpatients]\n",
    "                        toadd[\"専門外来\"] = \" \".join(tmp)\n",
    "\n",
    "                # データフレームに格納\n",
    "                df = pd.io.json.json_normalize(toadd)\n",
    "                try:\n",
    "                    df_all = pd.concat([df_all, df])\n",
    "                except NameError:\n",
    "                    df_all = pd.io.json.json_normalize(toadd)\n",
    "\n",
    "            page += 1\n",
    "\n",
    "            if last_flag:\n",
    "                df_all.to_csv(\"./\"+pref+\".csv\")\n",
    "                print(\"--- DONE. ---\")\n",
    "                break\n",
    "        else:\n",
    "            if last_flag is True:\n",
    "                break\n",
    "            else:\n",
    "                last_flag = True"
   ]
  },
  {
   "cell_type": "code",
   "execution_count": 183,
   "metadata": {
    "collapsed": true
   },
   "outputs": [],
   "source": [
    "# \\nが気持ち悪い場合はmap\n",
    "remove_n = lambda x: x.lstrip()\n",
    "df_all[\"施設名\"] = df_all[\"施設名\"].map(remove_n)"
   ]
  },
  {
   "cell_type": "code",
   "execution_count": 9,
   "metadata": {
    "collapsed": false
   },
   "outputs": [],
   "source": [
    "df_all.to_csv(\"medley_test.csv\")"
   ]
  }
 ],
 "metadata": {
  "anaconda-cloud": {},
  "kernelspec": {
   "display_name": "Python [conda env:anaconda3-4.2.0]",
   "language": "python",
   "name": "conda-env-anaconda3-4.2.0-py"
  },
  "language_info": {
   "codemirror_mode": {
    "name": "ipython",
    "version": 3
   },
   "file_extension": ".py",
   "mimetype": "text/x-python",
   "name": "python",
   "nbconvert_exporter": "python",
   "pygments_lexer": "ipython3",
   "version": "3.5.2"
  }
 },
 "nbformat": 4,
 "nbformat_minor": 1
}
