{
 "cells": [
  {
   "cell_type": "code",
   "execution_count": 2,
   "metadata": {
    "collapsed": false
   },
   "outputs": [],
   "source": [
    "import requests\n",
    "import re\n",
    "import pandas as pd\n",
    "from bs4 import BeautifulSoup\n",
    "from tqdm import tqdm\n",
    "import os\n",
    "\n",
    "import ssl\n",
    "ssl._create_default_https_context = ssl._create_unverified_context"
   ]
  },
  {
   "cell_type": "code",
   "execution_count": 83,
   "metadata": {
    "collapsed": false
   },
   "outputs": [],
   "source": [
    "# テスト用\n",
    "url = \"https://nicoly.jp/clinic/1525\"\n",
    "\n",
    "# user agent指定\n",
    "headers = {\n",
    "        \"User-Agent\": \"Mozilla/5.0 (X11; Ubuntu; Linux x86_64; rv:47.0) Gecko/20100101 Firefox/47.0\",\n",
    "        }\n",
    "\n",
    "res = requests.get(url, headers=headers)\n",
    "soup = BeautifulSoup(res.content, \"html.parser\")\n",
    "\n",
    "table = soup.find_all(\"table\")[0]\n",
    "rows = table.find_all(\"tr\")"
   ]
  },
  {
   "cell_type": "code",
   "execution_count": 87,
   "metadata": {
    "collapsed": false,
    "scrolled": true
   },
   "outputs": [
    {
     "name": "stderr",
     "output_type": "stream",
     "text": [
      "100%|██████████| 10/10 [00:07<00:00,  1.38it/s]\n"
     ]
    }
   ],
   "source": [
    "# 本番\n",
    "baseUrl = \"https://nicoly.jp/clinic/\"\n",
    "# user agent指定\n",
    "headers = {\n",
    "        \"User-Agent\": \"Mozilla/5.0 (X11; Ubuntu; Linux x86_64; rv:47.0) Gecko/20100101 Firefox/47.0\",\n",
    "        }\n",
    "\n",
    "df_all = pd.DataFrame()\n",
    "\n",
    "for i in tqdm(range(1520, 1530)):\n",
    "    url = baseUrl+str(i)\n",
    "    \n",
    "    if i % 100 == 0:\n",
    "        time.sleep(10)\n",
    "    res = requests.get(url, headers=headers)\n",
    "    if res.status_code == 200:\n",
    "        soup = BeautifulSoup(res.content, \"html.parser\")\n",
    "        table = soup.find_all(\"table\")[0]\n",
    "        rows = table.find_all(\"tr\")\n",
    "\n",
    "        dict = {}\n",
    "        for row in rows:\n",
    "            key = row.th.get_text()\n",
    "            tmp = re.sub(r\"※.*\", \"\", row.td.get_text())\n",
    "            tmp = re.sub(r\"\\s+\", \" \", tmp)\n",
    "            tmp = re.sub(r\"\\s+$\", \"\", tmp)\n",
    "            dict[key] = tmp\n",
    "\n",
    "            if row.td.a:\n",
    "                dict[key] = row.td.a.get(\"href\")\n",
    "\n",
    "        df = pd.io.json.json_normalize(dict)\n",
    "\n",
    "        try:\n",
    "            df_all = pd.concat([df_all, df])\n",
    "        except NameError:\n",
    "            df_all = pd.io.json.json_normalize(dict)"
   ]
  },
  {
   "cell_type": "markdown",
   "metadata": {},
   "source": [
    "# データの集計"
   ]
  },
  {
   "cell_type": "code",
   "execution_count": 6,
   "metadata": {
    "collapsed": true
   },
   "outputs": [],
   "source": [
    "target_dir = \"/Users/YukiOta/Desktop/nicoly\"\n",
    "filelist = os.listdir(\"/Users/YukiOta/Desktop/nicoly\")"
   ]
  },
  {
   "cell_type": "code",
   "execution_count": 8,
   "metadata": {
    "collapsed": true
   },
   "outputs": [],
   "source": [
    "df_all = pd.DataFrame()"
   ]
  },
  {
   "cell_type": "code",
   "execution_count": 24,
   "metadata": {
    "collapsed": false
   },
   "outputs": [],
   "source": [
    "# 重複した行を削除\n",
    "df_comp = df_all.drop_duplicates()"
   ]
  },
  {
   "cell_type": "code",
   "execution_count": 11,
   "metadata": {
    "collapsed": false,
    "scrolled": true
   },
   "outputs": [],
   "source": [
    "for file_ in filelist:\n",
    "    tmp = pd.read_csv(os.path.join(target_dir, file_))\n",
    "    df_all = pd.concat([df_all, tmp])"
   ]
  },
  {
   "cell_type": "code",
   "execution_count": 28,
   "metadata": {
    "collapsed": false
   },
   "outputs": [
    {
     "data": {
      "text/plain": [
       "3179"
      ]
     },
     "execution_count": 28,
     "metadata": {},
     "output_type": "execute_result"
    }
   ],
   "source": [
    "len(df_comp)"
   ]
  },
  {
   "cell_type": "code",
   "execution_count": 26,
   "metadata": {
    "collapsed": false,
    "scrolled": false
   },
   "outputs": [],
   "source": [
    "# df_all.to_csv(\"./out/nicoly_test.csv\")\n",
    "df_comp.to_csv(\"./data_nicoly.csv\")"
   ]
  }
 ],
 "metadata": {
  "anaconda-cloud": {},
  "kernelspec": {
   "display_name": "Python [conda root]",
   "language": "python",
   "name": "conda-root-py"
  },
  "language_info": {
   "codemirror_mode": {
    "name": "ipython",
    "version": 3
   },
   "file_extension": ".py",
   "mimetype": "text/x-python",
   "name": "python",
   "nbconvert_exporter": "python",
   "pygments_lexer": "ipython3",
   "version": "3.5.2"
  }
 },
 "nbformat": 4,
 "nbformat_minor": 1
}
